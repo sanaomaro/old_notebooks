{
  "nbformat": 4,
  "nbformat_minor": 0,
  "metadata": {
    "colab": {
      "provenance": [],
      "collapsed_sections": [],
      "authorship_tag": "ABX9TyPg29g1KaQKw+2DgJJSmM+l",
      "include_colab_link": true
    },
    "kernelspec": {
      "name": "python3",
      "display_name": "Python 3"
    },
    "language_info": {
      "name": "python"
    }
  },
  "cells": [
    {
      "cell_type": "markdown",
      "metadata": {
        "id": "view-in-github",
        "colab_type": "text"
      },
      "source": [
        "<a href=\"https://colab.research.google.com/github/sanaomaro/old_notebooks/blob/main/S_Omar_M3_assn.ipynb\" target=\"_parent\"><img src=\"https://colab.research.google.com/assets/colab-badge.svg\" alt=\"Open In Colab\"/></a>"
      ]
    },
    {
      "cell_type": "code",
      "execution_count": 1,
      "metadata": {
        "colab": {
          "base_uri": "https://localhost:8080/",
          "height": 70
        },
        "id": "pVHU-QnFWvhZ",
        "outputId": "e47dfeea-f699-4997-c5c0-b3265532fbcb"
      },
      "outputs": [
        {
          "output_type": "execute_result",
          "data": {
            "text/plain": [
              "\"\\nwith open(file_path,'w+') as csvfile:  \\n  lines = [line for line in csvfile if not line == header]\\n  \\n  csvfile.write(','.join([line for line in lines].insert(0,header)))    \\n\""
            ],
            "application/vnd.google.colaboratory.intrinsic+json": {
              "type": "string"
            }
          },
          "metadata": {},
          "execution_count": 1
        }
      ],
      "source": [
        "#very confused, I am used to using pandas.\n",
        "import csv\n",
        "import pandas as pd\n",
        "import numpy as np\n",
        "import matplotlib.pyplot as plt\n",
        "import os\n",
        "cars =[]\n",
        "file_path = '/content/cars-sample35.txt'\n",
        "#header = ['Price', 'Maintenance_cost', 'Number_of_doors', 'Number_of_passengers', 'Luggage_capacity', 'Safety_rating', 'Classification_of_vehicle']\n",
        "\n",
        "#with open(file_path, \"w+\") as csvfile:\n",
        "  #readCSV = csv.reader(csvfile, delimiter=',')\n",
        "    # Create File\n",
        "  #if not os.path.exists(file_path):\n",
        "   # print(\"No File\")\n",
        "  \n",
        "    # remove any matching 'header' from the file, in case ther are duplicate header rows in the wrong places\n",
        "  #lines = [line for line in csvfile if not line == header]\n",
        "  #csvfile.close()\n",
        "\n",
        "    # rewrite the file, appending the header to row 1\n",
        "\n",
        "  #csvfile.write(','.join([line for line in lines].insert(0,header)))    \n",
        "  #csvfile.close()\n",
        "\n",
        "  #writer = csv.writer(csvfile)\n",
        " # writer.writerow(header)\n",
        "  \n",
        "\n",
        "import fileinput\n",
        "headers = 'Price Maintenance_cost Number_of_doors Number_of_passengers Luggage_capacity Safety_rating Classification_of_vehicle'.split()\n",
        "#headers = 'a b c d e'.split()\n",
        "for line in fileinput.input([file_path], inplace=True):\n",
        "    if fileinput.isfirstline():\n",
        "  \n",
        "      print(','.join(headers))\n",
        "    print(line)\n",
        "\"\"\"\n",
        "with open(file_path,'w+') as csvfile:  \n",
        "  lines = [line for line in csvfile if not line == header]\n",
        "  \n",
        "  csvfile.write(','.join([line for line in lines].insert(0,header)))    \n",
        "\"\"\"\n",
        "\n",
        "\n",
        "\n",
        "\n",
        "    \n"
      ]
    },
    {
      "cell_type": "code",
      "source": [
        "#I noticed that there are empty lines because of the previous code of adding the header, \n",
        "#it seems something wrong with the join statement but I could not fix it,\n",
        "#So, I wrote this code to omit the empty lines\n",
        "with open(file_path) as reader, open(file_path, 'r+') as writer:\n",
        "  for line in reader:\n",
        "    if line.strip():\n",
        "      writer.write(line)\n",
        "  writer.truncate()"
      ],
      "metadata": {
        "id": "Etpm7WRZ8yiD"
      },
      "execution_count": 3,
      "outputs": []
    },
    {
      "cell_type": "code",
      "source": [
        "#this code to convert it into a list named cars\n",
        "with open(file_path, 'r') as csvfile:  \n",
        "  readCSV = csv.reader(csvfile)\n",
        "  for row in readCSV:\n",
        "    cars.append(row)\n",
        "  csvfile.close()\n",
        "\n",
        "  # print each row as read by the csv.reader function\n",
        "for row in range(0,len(cars)):\n",
        "  print(cars[row])"
      ],
      "metadata": {
        "colab": {
          "base_uri": "https://localhost:8080/"
        },
        "id": "ei5l70ne61Jt",
        "outputId": "e3a5ddf5-9b53-4971-cad3-9dda226d8b3e"
      },
      "execution_count": 4,
      "outputs": [
        {
          "output_type": "stream",
          "name": "stdout",
          "text": [
            "['Price', 'Maintenance_cost', 'Number_of_doors', 'Number_of_passengers', 'Luggage_capacity', 'Safety_rating', 'Classification_of_vehicle']\n",
            "['high', 'high', '2', '4', 'med', 'low', 'unacc']\n",
            "['high', 'high', '4', 'more', 'small', 'high', 'acc']\n",
            "['high', 'high', '4', 'more', 'big', 'low', 'unacc']\n",
            "['high', 'low', '2', 'more', 'big', 'high', 'acc']\n",
            "['vhigh', 'low', '3', '2', 'med', 'med', 'unacc']\n",
            "['low', 'high', '2', '2', 'small', 'low', 'unacc']\n",
            "['med', 'med', '4', 'more', 'med', 'high', 'vgood']\n",
            "['low', 'low', '3', '2', 'big', 'med', 'unacc']\n",
            "['vhigh', 'low', '2', '2', 'small', 'low', 'unacc']\n",
            "['vhigh', 'high', '4', '4', 'med', 'low', 'unacc']\n",
            "['low', 'low', '2', '2', 'med', 'med', 'unacc']\n",
            "['vhigh', 'low', '4', 'more', 'small', 'high', 'acc']\n",
            "['high', 'low', '2', '4', 'big', 'med', 'acc']\n",
            "['low', 'vhigh', '3', 'more', 'big', 'low', 'unacc']\n",
            "['high', 'low', '5more', '2', 'big', 'med', 'unacc']\n",
            "['vhigh', 'high', '2', 'more', 'med', 'high', 'unacc']\n",
            "['med', 'med', '2', '2', 'small', 'low', 'unacc']\n",
            "['high', 'low', '5more', '4', 'med', 'high', 'acc']\n",
            "['low', 'low', '3', 'more', 'med', 'high', 'vgood']\n",
            "['low', 'low', '2', '2', 'big', 'med', 'unacc']\n",
            "['med', 'high', '4', '2', 'big', 'high', 'unacc']\n",
            "['low', 'low', '2', '2', 'small', 'high', 'unacc']\n",
            "['vhigh', 'high', '5more', '4', 'med', 'med', 'unacc']\n",
            "['med', 'vhigh', '2', '2', 'big', 'low', 'unacc']\n",
            "['low', 'vhigh', '4', '4', 'big', 'low', 'unacc']\n",
            "['vhigh', 'low', '3', 'more', 'big', 'low', 'unacc']\n",
            "['med', 'vhigh', '3', '4', 'small', 'low', 'unacc']\n",
            "['high', 'high', '3', '4', 'med', 'med', 'unacc']\n",
            "['low', 'high', '5more', '2', 'big', 'low', 'unacc']\n",
            "['med', 'high', '5more', '2', 'med', 'med', 'unacc']\n",
            "['high', 'low', '3', '4', 'med', 'high', 'acc']\n",
            "['high', 'vhigh', '5more', '4', 'med', 'med', 'unacc']\n",
            "['low', 'low', '5more', '2', 'med', 'low', 'unacc']\n",
            "['vhigh', 'vhigh', '4', '2', 'big', 'high', 'unacc']\n",
            "['high', 'low', '3', '2', 'big', 'high', 'unacc']\n"
          ]
        }
      ]
    },
    {
      "cell_type": "code",
      "source": [
        "#an attempt to make sure it is printed fine\n",
        "for row in range(0,len(cars)):\n",
        "  print(cars[row], row)"
      ],
      "metadata": {
        "colab": {
          "base_uri": "https://localhost:8080/"
        },
        "id": "_dAVptq_6KuB",
        "outputId": "20f4a193-5c6d-4960-ebfa-7807b7efebf0"
      },
      "execution_count": 5,
      "outputs": [
        {
          "output_type": "stream",
          "name": "stdout",
          "text": [
            "['Price', 'Maintenance_cost', 'Number_of_doors', 'Number_of_passengers', 'Luggage_capacity', 'Safety_rating', 'Classification_of_vehicle'] 0\n",
            "['high', 'high', '2', '4', 'med', 'low', 'unacc'] 1\n",
            "['high', 'high', '4', 'more', 'small', 'high', 'acc'] 2\n",
            "['high', 'high', '4', 'more', 'big', 'low', 'unacc'] 3\n",
            "['high', 'low', '2', 'more', 'big', 'high', 'acc'] 4\n",
            "['vhigh', 'low', '3', '2', 'med', 'med', 'unacc'] 5\n",
            "['low', 'high', '2', '2', 'small', 'low', 'unacc'] 6\n",
            "['med', 'med', '4', 'more', 'med', 'high', 'vgood'] 7\n",
            "['low', 'low', '3', '2', 'big', 'med', 'unacc'] 8\n",
            "['vhigh', 'low', '2', '2', 'small', 'low', 'unacc'] 9\n",
            "['vhigh', 'high', '4', '4', 'med', 'low', 'unacc'] 10\n",
            "['low', 'low', '2', '2', 'med', 'med', 'unacc'] 11\n",
            "['vhigh', 'low', '4', 'more', 'small', 'high', 'acc'] 12\n",
            "['high', 'low', '2', '4', 'big', 'med', 'acc'] 13\n",
            "['low', 'vhigh', '3', 'more', 'big', 'low', 'unacc'] 14\n",
            "['high', 'low', '5more', '2', 'big', 'med', 'unacc'] 15\n",
            "['vhigh', 'high', '2', 'more', 'med', 'high', 'unacc'] 16\n",
            "['med', 'med', '2', '2', 'small', 'low', 'unacc'] 17\n",
            "['high', 'low', '5more', '4', 'med', 'high', 'acc'] 18\n",
            "['low', 'low', '3', 'more', 'med', 'high', 'vgood'] 19\n",
            "['low', 'low', '2', '2', 'big', 'med', 'unacc'] 20\n",
            "['med', 'high', '4', '2', 'big', 'high', 'unacc'] 21\n",
            "['low', 'low', '2', '2', 'small', 'high', 'unacc'] 22\n",
            "['vhigh', 'high', '5more', '4', 'med', 'med', 'unacc'] 23\n",
            "['med', 'vhigh', '2', '2', 'big', 'low', 'unacc'] 24\n",
            "['low', 'vhigh', '4', '4', 'big', 'low', 'unacc'] 25\n",
            "['vhigh', 'low', '3', 'more', 'big', 'low', 'unacc'] 26\n",
            "['med', 'vhigh', '3', '4', 'small', 'low', 'unacc'] 27\n",
            "['high', 'high', '3', '4', 'med', 'med', 'unacc'] 28\n",
            "['low', 'high', '5more', '2', 'big', 'low', 'unacc'] 29\n",
            "['med', 'high', '5more', '2', 'med', 'med', 'unacc'] 30\n",
            "['high', 'low', '3', '4', 'med', 'high', 'acc'] 31\n",
            "['high', 'vhigh', '5more', '4', 'med', 'med', 'unacc'] 32\n",
            "['low', 'low', '5more', '2', 'med', 'low', 'unacc'] 33\n",
            "['vhigh', 'vhigh', '4', '2', 'big', 'high', 'unacc'] 34\n",
            "['high', 'low', '3', '2', 'big', 'high', 'unacc'] 35\n"
          ]
        }
      ]
    },
    {
      "cell_type": "code",
      "source": [
        "#TASK 2\n",
        "#using slice objects in sublisting we made python sublists only the first colum of price\n",
        "#then by seraching in the list cars according to the term stored in search in the sublisting\n",
        "#we found the indexes of the rows weher prices are med.\n",
        "cars_medPrices =[]\n",
        "cars_medPrices_indexes = []\n",
        "search = 'med'\n",
        "#any(e[1] == search for e in cars)\n",
        "cars_prices = [sublist[:1] for sublist in cars]\n",
        "print(cars_prices)\n",
        "print(len(cars_prices), len(cars))\n",
        "for row in range(0,len(cars)):\n",
        "\n",
        " # for col in cars[col, row]:\n",
        "  for sub in cars_prices[row]:\n",
        "    if sub == search:\n",
        "      cars_medPrices.append(cars[row])\n",
        "      cars_medPrices_indexes.append(row)\n",
        "      print(\"Found it!\", cars[row], row)\n",
        "      break\n",
        "#this is the list of indexes values of cars with prices med    \n",
        "print(cars_medPrices_indexes)\n",
        "for row in range(0,len(cars_medPrices)):\n",
        "  #this is the list of cars havinf prices med\n",
        "  print(cars_medPrices[row])  \n"
      ],
      "metadata": {
        "colab": {
          "base_uri": "https://localhost:8080/"
        },
        "id": "99M02B_o-FAM",
        "outputId": "761fb67e-e90a-4f18-b8a3-bba11348ef89"
      },
      "execution_count": 6,
      "outputs": [
        {
          "output_type": "stream",
          "name": "stdout",
          "text": [
            "[['Price'], ['high'], ['high'], ['high'], ['high'], ['vhigh'], ['low'], ['med'], ['low'], ['vhigh'], ['vhigh'], ['low'], ['vhigh'], ['high'], ['low'], ['high'], ['vhigh'], ['med'], ['high'], ['low'], ['low'], ['med'], ['low'], ['vhigh'], ['med'], ['low'], ['vhigh'], ['med'], ['high'], ['low'], ['med'], ['high'], ['high'], ['low'], ['vhigh'], ['high']]\n",
            "36 36\n",
            "Found it! ['med', 'med', '4', 'more', 'med', 'high', 'vgood'] 7\n",
            "Found it! ['med', 'med', '2', '2', 'small', 'low', 'unacc'] 17\n",
            "Found it! ['med', 'high', '4', '2', 'big', 'high', 'unacc'] 21\n",
            "Found it! ['med', 'vhigh', '2', '2', 'big', 'low', 'unacc'] 24\n",
            "Found it! ['med', 'vhigh', '3', '4', 'small', 'low', 'unacc'] 27\n",
            "Found it! ['med', 'high', '5more', '2', 'med', 'med', 'unacc'] 30\n",
            "[7, 17, 21, 24, 27, 30]\n",
            "['med', 'med', '4', 'more', 'med', 'high', 'vgood']\n",
            "['med', 'med', '2', '2', 'small', 'low', 'unacc']\n",
            "['med', 'high', '4', '2', 'big', 'high', 'unacc']\n",
            "['med', 'vhigh', '2', '2', 'big', 'low', 'unacc']\n",
            "['med', 'vhigh', '3', '4', 'small', 'low', 'unacc']\n",
            "['med', 'high', '5more', '2', 'med', 'med', 'unacc']\n"
          ]
        }
      ]
    },
    {
      "cell_type": "code",
      "source": [
        "#TASK 3\n",
        "#using slice objects in sublisting we made python sublists only the first colum of price\n",
        "#then by seraching in the list cars according to the term stored in search in the sublisting\n",
        "#we found the the number of passengers of the rows weher prices are med.\n",
        "cars_medPrices =[]\n",
        "search = 'med'\n",
        "#any(e[1] == search for e in cars)\n",
        "cars_prices = [sublist[:1] for sublist in cars]\n",
        "cars_number_of_passengers = []\n",
        "print(cars_prices)\n",
        "\n",
        "print(len(cars_prices), len(cars))\n",
        "\n",
        "for row in range(0,len(cars)):\n",
        "\n",
        " # for col in cars[col, row]:\n",
        "  for sub in cars_prices[row]:\n",
        "    if sub == search:\n",
        "      cars_medPrices.append(cars[row])\n",
        "      cars_number_of_passengers.append(cars[row][3])\n",
        "      print(\"Found it!\", cars[row], row)\n",
        "      break\n",
        "    \n",
        "\n",
        "for row in range(0,len(cars_medPrices)):\n",
        "  print(cars_medPrices[row])\n",
        "  print(cars_number_of_passengers[row]) \n",
        "#this is the list of number of passengers values of prices\n",
        "print(cars_number_of_passengers)  "
      ],
      "metadata": {
        "colab": {
          "base_uri": "https://localhost:8080/"
        },
        "id": "nwNdtbBmHTeu",
        "outputId": "45f84091-d7b1-4746-85f2-e0b28cd80901"
      },
      "execution_count": 7,
      "outputs": [
        {
          "output_type": "stream",
          "name": "stdout",
          "text": [
            "[['Price'], ['high'], ['high'], ['high'], ['high'], ['vhigh'], ['low'], ['med'], ['low'], ['vhigh'], ['vhigh'], ['low'], ['vhigh'], ['high'], ['low'], ['high'], ['vhigh'], ['med'], ['high'], ['low'], ['low'], ['med'], ['low'], ['vhigh'], ['med'], ['low'], ['vhigh'], ['med'], ['high'], ['low'], ['med'], ['high'], ['high'], ['low'], ['vhigh'], ['high']]\n",
            "36 36\n",
            "Found it! ['med', 'med', '4', 'more', 'med', 'high', 'vgood'] 7\n",
            "Found it! ['med', 'med', '2', '2', 'small', 'low', 'unacc'] 17\n",
            "Found it! ['med', 'high', '4', '2', 'big', 'high', 'unacc'] 21\n",
            "Found it! ['med', 'vhigh', '2', '2', 'big', 'low', 'unacc'] 24\n",
            "Found it! ['med', 'vhigh', '3', '4', 'small', 'low', 'unacc'] 27\n",
            "Found it! ['med', 'high', '5more', '2', 'med', 'med', 'unacc'] 30\n",
            "['med', 'med', '4', 'more', 'med', 'high', 'vgood']\n",
            "more\n",
            "['med', 'med', '2', '2', 'small', 'low', 'unacc']\n",
            "2\n",
            "['med', 'high', '4', '2', 'big', 'high', 'unacc']\n",
            "2\n",
            "['med', 'vhigh', '2', '2', 'big', 'low', 'unacc']\n",
            "2\n",
            "['med', 'vhigh', '3', '4', 'small', 'low', 'unacc']\n",
            "4\n",
            "['med', 'high', '5more', '2', 'med', 'med', 'unacc']\n",
            "2\n",
            "['more', '2', '2', '2', '4', '2']\n"
          ]
        }
      ]
    },
    {
      "cell_type": "code",
      "source": [
        "#TASK 4\n",
        "#using slice objects in sublisting we made python sublists only the first colum of price\n",
        "#then by seraching in the list cars according to the term stored in search in the sublisting\n",
        "#we found the the number of passengers of the rows weher prices are med.\n",
        "cars_highprices_notlowMain =[]\n",
        "cars_main_check =[]\n",
        "search = 'high'\n",
        "#any(e[1] == search for e in cars)\n",
        "cars_prices = [sublist[:1] for sublist in cars]\n",
        "\n",
        "print(cars_prices)\n",
        "\n",
        "\n",
        "for row in range(0,len(cars)):\n",
        "\n",
        " # for col in cars[col, row]:\n",
        "  for sub in cars_prices[row]:\n",
        "     if sub == search and cars[row][1] != \"low\":\n",
        "      cars_main_check.append(cars[row][1])\n",
        "      cars_highprices_notlowMain.append(cars[row])\n",
        "      print(\"Found it!\", cars[row], row)\n",
        "      break\n",
        "    \n",
        "#cars_highprices_notlowMain is the list that contains the cars with high prices and not low maintanance\n",
        "for row in range(0,len(cars_highprices_notlowMain)):\n",
        "  print(cars_highprices_notlowMain[row])\n",
        "\n",
        "print(\"checking list\" , cars_main_check)"
      ],
      "metadata": {
        "colab": {
          "base_uri": "https://localhost:8080/"
        },
        "id": "I4cxSNrgKBE5",
        "outputId": "f84dde6e-56a7-40b3-ba35-0ffa8d8de4d7"
      },
      "execution_count": 8,
      "outputs": [
        {
          "output_type": "stream",
          "name": "stdout",
          "text": [
            "[['Price'], ['high'], ['high'], ['high'], ['high'], ['vhigh'], ['low'], ['med'], ['low'], ['vhigh'], ['vhigh'], ['low'], ['vhigh'], ['high'], ['low'], ['high'], ['vhigh'], ['med'], ['high'], ['low'], ['low'], ['med'], ['low'], ['vhigh'], ['med'], ['low'], ['vhigh'], ['med'], ['high'], ['low'], ['med'], ['high'], ['high'], ['low'], ['vhigh'], ['high']]\n",
            "Found it! ['high', 'high', '2', '4', 'med', 'low', 'unacc'] 1\n",
            "Found it! ['high', 'high', '4', 'more', 'small', 'high', 'acc'] 2\n",
            "Found it! ['high', 'high', '4', 'more', 'big', 'low', 'unacc'] 3\n",
            "Found it! ['high', 'high', '3', '4', 'med', 'med', 'unacc'] 28\n",
            "Found it! ['high', 'vhigh', '5more', '4', 'med', 'med', 'unacc'] 32\n",
            "['high', 'high', '2', '4', 'med', 'low', 'unacc']\n",
            "['high', 'high', '4', 'more', 'small', 'high', 'acc']\n",
            "['high', 'high', '4', 'more', 'big', 'low', 'unacc']\n",
            "['high', 'high', '3', '4', 'med', 'med', 'unacc']\n",
            "['high', 'vhigh', '5more', '4', 'med', 'med', 'unacc']\n",
            "checking list ['high', 'high', 'high', 'high', 'vhigh']\n"
          ]
        }
      ]
    },
    {
      "cell_type": "code",
      "source": [
        "#Task 6: creating CarData class with 8 features one of them is unique ID. Plus, couting classes\n",
        "class CarData:\n",
        "   #counting for cars clasees\n",
        "   CarCount = 0\n",
        "\n",
        "   def __init__(self, uniqueID, Price, maint_cost, no_doors, no_passengers, lugg_cap, safety_rate, class_type):\n",
        "      self.uniqueID = super.CarCount\n",
        "      self.Price = Price\n",
        "      self.maint_cost = maint_cost\n",
        "      self.no_doors = no_doors\n",
        "      self.no_passengers = no_passengers\n",
        "      self.lugg_cap = lugg_cap\n",
        "      self.safety_rate = safety_rate\n",
        "      self.class_type = class_type\n",
        "      CarData.CarCount += 1\n",
        "\n",
        "   def displayCount(self):\n",
        "\n",
        "      print(\"Total cars %d\" % CarData.CarCount)\n",
        "\n",
        "   def displayEmployee(self):\n",
        "\n",
        "      print(\"Name : \", self.uniqueID, \", Salary: \", self.Price)"
      ],
      "metadata": {
        "id": "m5alKgppoY3V"
      },
      "execution_count": 9,
      "outputs": []
    },
    {
      "cell_type": "code",
      "source": [],
      "metadata": {
        "id": "y4Btbd7IrW5j"
      },
      "execution_count": null,
      "outputs": []
    },
    {
      "cell_type": "markdown",
      "source": [
        "# **#As for the Task no 7, I could not implement this idea: **\n",
        "\n",
        "\"with each row within the file being loaded into a distinct CarData class object within that list.\""
      ],
      "metadata": {
        "id": "MWb24XZcrQEZ"
      }
    },
    {
      "cell_type": "markdown",
      "source": [
        "***HERE ENDS THE SOLUTION, AFTER THIS LINE MY FIRST TRIAL USING PANDAS, WHICH I DID NOT KNOW IT IS NOT ALLOWED AT FIRST***\n",
        "\n",
        "---\n",
        "\n"
      ],
      "metadata": {
        "id": "DLhacpXWsVYD"
      }
    },
    {
      "cell_type": "code",
      "source": [
        "'''\n",
        "def read_data(readCSV, columns):\n",
        "    with open(readCSV, mode='r') as f:\n",
        "        rows = [line.split('::') for line in f.read().splitlines()]\n",
        "    records = [{name: value for name, value in zip(columns, row)} for row in rows]\n",
        "    return records\n",
        "csvn = 'Price Maintenance_cost Number_of_doors Number_of_passengers Luggage_capacity Safety_rating Classification_of_vehicle'.split()\n",
        "cars = read_data('/content/cars-sample35.txt', csvn)\n",
        "'''"
      ],
      "metadata": {
        "id": "esDQSSJazxf9"
      },
      "execution_count": null,
      "outputs": []
    },
    {
      "cell_type": "code",
      "source": [
        "data = pd.read_csv('cars-sample35.txt')\n",
        "#We can check the first five samples of the data:\n",
        "data.head(5)"
      ],
      "metadata": {
        "colab": {
          "base_uri": "https://localhost:8080/",
          "height": 206
        },
        "id": "s--NFmEVX45d",
        "outputId": "74e451aa-d1d6-4fda-bce8-273eec238d08"
      },
      "execution_count": null,
      "outputs": [
        {
          "output_type": "execute_result",
          "data": {
            "text/plain": [
              "    high high.1  2     4    med   low  unacc\n",
              "0   high   high  4  more  small  high    acc\n",
              "1   high   high  4  more    big   low  unacc\n",
              "2   high    low  2  more    big  high    acc\n",
              "3  vhigh    low  3     2    med   med  unacc\n",
              "4    low   high  2     2  small   low  unacc"
            ],
            "text/html": [
              "\n",
              "  <div id=\"df-8efc5d0a-ad0d-4856-94d7-625e07ecced7\">\n",
              "    <div class=\"colab-df-container\">\n",
              "      <div>\n",
              "<style scoped>\n",
              "    .dataframe tbody tr th:only-of-type {\n",
              "        vertical-align: middle;\n",
              "    }\n",
              "\n",
              "    .dataframe tbody tr th {\n",
              "        vertical-align: top;\n",
              "    }\n",
              "\n",
              "    .dataframe thead th {\n",
              "        text-align: right;\n",
              "    }\n",
              "</style>\n",
              "<table border=\"1\" class=\"dataframe\">\n",
              "  <thead>\n",
              "    <tr style=\"text-align: right;\">\n",
              "      <th></th>\n",
              "      <th>high</th>\n",
              "      <th>high.1</th>\n",
              "      <th>2</th>\n",
              "      <th>4</th>\n",
              "      <th>med</th>\n",
              "      <th>low</th>\n",
              "      <th>unacc</th>\n",
              "    </tr>\n",
              "  </thead>\n",
              "  <tbody>\n",
              "    <tr>\n",
              "      <th>0</th>\n",
              "      <td>high</td>\n",
              "      <td>high</td>\n",
              "      <td>4</td>\n",
              "      <td>more</td>\n",
              "      <td>small</td>\n",
              "      <td>high</td>\n",
              "      <td>acc</td>\n",
              "    </tr>\n",
              "    <tr>\n",
              "      <th>1</th>\n",
              "      <td>high</td>\n",
              "      <td>high</td>\n",
              "      <td>4</td>\n",
              "      <td>more</td>\n",
              "      <td>big</td>\n",
              "      <td>low</td>\n",
              "      <td>unacc</td>\n",
              "    </tr>\n",
              "    <tr>\n",
              "      <th>2</th>\n",
              "      <td>high</td>\n",
              "      <td>low</td>\n",
              "      <td>2</td>\n",
              "      <td>more</td>\n",
              "      <td>big</td>\n",
              "      <td>high</td>\n",
              "      <td>acc</td>\n",
              "    </tr>\n",
              "    <tr>\n",
              "      <th>3</th>\n",
              "      <td>vhigh</td>\n",
              "      <td>low</td>\n",
              "      <td>3</td>\n",
              "      <td>2</td>\n",
              "      <td>med</td>\n",
              "      <td>med</td>\n",
              "      <td>unacc</td>\n",
              "    </tr>\n",
              "    <tr>\n",
              "      <th>4</th>\n",
              "      <td>low</td>\n",
              "      <td>high</td>\n",
              "      <td>2</td>\n",
              "      <td>2</td>\n",
              "      <td>small</td>\n",
              "      <td>low</td>\n",
              "      <td>unacc</td>\n",
              "    </tr>\n",
              "  </tbody>\n",
              "</table>\n",
              "</div>\n",
              "      <button class=\"colab-df-convert\" onclick=\"convertToInteractive('df-8efc5d0a-ad0d-4856-94d7-625e07ecced7')\"\n",
              "              title=\"Convert this dataframe to an interactive table.\"\n",
              "              style=\"display:none;\">\n",
              "        \n",
              "  <svg xmlns=\"http://www.w3.org/2000/svg\" height=\"24px\"viewBox=\"0 0 24 24\"\n",
              "       width=\"24px\">\n",
              "    <path d=\"M0 0h24v24H0V0z\" fill=\"none\"/>\n",
              "    <path d=\"M18.56 5.44l.94 2.06.94-2.06 2.06-.94-2.06-.94-.94-2.06-.94 2.06-2.06.94zm-11 1L8.5 8.5l.94-2.06 2.06-.94-2.06-.94L8.5 2.5l-.94 2.06-2.06.94zm10 10l.94 2.06.94-2.06 2.06-.94-2.06-.94-.94-2.06-.94 2.06-2.06.94z\"/><path d=\"M17.41 7.96l-1.37-1.37c-.4-.4-.92-.59-1.43-.59-.52 0-1.04.2-1.43.59L10.3 9.45l-7.72 7.72c-.78.78-.78 2.05 0 2.83L4 21.41c.39.39.9.59 1.41.59.51 0 1.02-.2 1.41-.59l7.78-7.78 2.81-2.81c.8-.78.8-2.07 0-2.86zM5.41 20L4 18.59l7.72-7.72 1.47 1.35L5.41 20z\"/>\n",
              "  </svg>\n",
              "      </button>\n",
              "      \n",
              "  <style>\n",
              "    .colab-df-container {\n",
              "      display:flex;\n",
              "      flex-wrap:wrap;\n",
              "      gap: 12px;\n",
              "    }\n",
              "\n",
              "    .colab-df-convert {\n",
              "      background-color: #E8F0FE;\n",
              "      border: none;\n",
              "      border-radius: 50%;\n",
              "      cursor: pointer;\n",
              "      display: none;\n",
              "      fill: #1967D2;\n",
              "      height: 32px;\n",
              "      padding: 0 0 0 0;\n",
              "      width: 32px;\n",
              "    }\n",
              "\n",
              "    .colab-df-convert:hover {\n",
              "      background-color: #E2EBFA;\n",
              "      box-shadow: 0px 1px 2px rgba(60, 64, 67, 0.3), 0px 1px 3px 1px rgba(60, 64, 67, 0.15);\n",
              "      fill: #174EA6;\n",
              "    }\n",
              "\n",
              "    [theme=dark] .colab-df-convert {\n",
              "      background-color: #3B4455;\n",
              "      fill: #D2E3FC;\n",
              "    }\n",
              "\n",
              "    [theme=dark] .colab-df-convert:hover {\n",
              "      background-color: #434B5C;\n",
              "      box-shadow: 0px 1px 3px 1px rgba(0, 0, 0, 0.15);\n",
              "      filter: drop-shadow(0px 1px 2px rgba(0, 0, 0, 0.3));\n",
              "      fill: #FFFFFF;\n",
              "    }\n",
              "  </style>\n",
              "\n",
              "      <script>\n",
              "        const buttonEl =\n",
              "          document.querySelector('#df-8efc5d0a-ad0d-4856-94d7-625e07ecced7 button.colab-df-convert');\n",
              "        buttonEl.style.display =\n",
              "          google.colab.kernel.accessAllowed ? 'block' : 'none';\n",
              "\n",
              "        async function convertToInteractive(key) {\n",
              "          const element = document.querySelector('#df-8efc5d0a-ad0d-4856-94d7-625e07ecced7');\n",
              "          const dataTable =\n",
              "            await google.colab.kernel.invokeFunction('convertToInteractive',\n",
              "                                                     [key], {});\n",
              "          if (!dataTable) return;\n",
              "\n",
              "          const docLinkHtml = 'Like what you see? Visit the ' +\n",
              "            '<a target=\"_blank\" href=https://colab.research.google.com/notebooks/data_table.ipynb>data table notebook</a>'\n",
              "            + ' to learn more about interactive tables.';\n",
              "          element.innerHTML = '';\n",
              "          dataTable['output_type'] = 'display_data';\n",
              "          await google.colab.output.renderOutput(dataTable, element);\n",
              "          const docLink = document.createElement('div');\n",
              "          docLink.innerHTML = docLinkHtml;\n",
              "          element.appendChild(docLink);\n",
              "        }\n",
              "      </script>\n",
              "    </div>\n",
              "  </div>\n",
              "  "
            ]
          },
          "metadata": {},
          "execution_count": 7
        }
      ]
    },
    {
      "cell_type": "code",
      "source": [
        "data.shape"
      ],
      "metadata": {
        "colab": {
          "base_uri": "https://localhost:8080/"
        },
        "id": "o0FaT3xUYbom",
        "outputId": "0dc9114a-81e6-473f-cbb1-99b13854e481"
      },
      "execution_count": null,
      "outputs": [
        {
          "output_type": "execute_result",
          "data": {
            "text/plain": [
              "(34, 7)"
            ]
          },
          "metadata": {},
          "execution_count": 8
        }
      ]
    },
    {
      "cell_type": "code",
      "source": [
        "data.columns"
      ],
      "metadata": {
        "colab": {
          "base_uri": "https://localhost:8080/"
        },
        "id": "t15lT4DUYkCk",
        "outputId": "62f795e5-a5c5-4311-99fc-0d9cd8231c62"
      },
      "execution_count": null,
      "outputs": [
        {
          "output_type": "execute_result",
          "data": {
            "text/plain": [
              "Index(['high', 'high.1', '2', '4', 'med', 'low', 'unacc'], dtype='object')"
            ]
          },
          "metadata": {},
          "execution_count": 9
        }
      ]
    },
    {
      "cell_type": "code",
      "source": [
        "data.columns = ['Price','Maintenance_cost','Number_of_doors', 'Number_of_passengers', 'Luggage_capacity', 'Safety_rating', 'Classification_of_vehicle'] "
      ],
      "metadata": {
        "id": "wxstiSJAYmGR"
      },
      "execution_count": null,
      "outputs": []
    },
    {
      "cell_type": "code",
      "source": [
        "data.head(5)"
      ],
      "metadata": {
        "colab": {
          "base_uri": "https://localhost:8080/",
          "height": 206
        },
        "id": "2mfBjjwsZKwX",
        "outputId": "d15f2f63-5f8e-438c-daa2-a7a863c1befb"
      },
      "execution_count": null,
      "outputs": [
        {
          "output_type": "execute_result",
          "data": {
            "text/plain": [
              "   Price Maintenance_cost Number_of_doors Number_of_passengers  \\\n",
              "0   high             high               4                 more   \n",
              "1   high             high               4                 more   \n",
              "2   high              low               2                 more   \n",
              "3  vhigh              low               3                    2   \n",
              "4    low             high               2                    2   \n",
              "\n",
              "  Luggage_capacity Safety_rating Classification_of_vehicle  \n",
              "0            small          high                       acc  \n",
              "1              big           low                     unacc  \n",
              "2              big          high                       acc  \n",
              "3              med           med                     unacc  \n",
              "4            small           low                     unacc  "
            ],
            "text/html": [
              "\n",
              "  <div id=\"df-72f8a772-51c5-4a93-84f1-ef51dcb685e1\">\n",
              "    <div class=\"colab-df-container\">\n",
              "      <div>\n",
              "<style scoped>\n",
              "    .dataframe tbody tr th:only-of-type {\n",
              "        vertical-align: middle;\n",
              "    }\n",
              "\n",
              "    .dataframe tbody tr th {\n",
              "        vertical-align: top;\n",
              "    }\n",
              "\n",
              "    .dataframe thead th {\n",
              "        text-align: right;\n",
              "    }\n",
              "</style>\n",
              "<table border=\"1\" class=\"dataframe\">\n",
              "  <thead>\n",
              "    <tr style=\"text-align: right;\">\n",
              "      <th></th>\n",
              "      <th>Price</th>\n",
              "      <th>Maintenance_cost</th>\n",
              "      <th>Number_of_doors</th>\n",
              "      <th>Number_of_passengers</th>\n",
              "      <th>Luggage_capacity</th>\n",
              "      <th>Safety_rating</th>\n",
              "      <th>Classification_of_vehicle</th>\n",
              "    </tr>\n",
              "  </thead>\n",
              "  <tbody>\n",
              "    <tr>\n",
              "      <th>0</th>\n",
              "      <td>high</td>\n",
              "      <td>high</td>\n",
              "      <td>4</td>\n",
              "      <td>more</td>\n",
              "      <td>small</td>\n",
              "      <td>high</td>\n",
              "      <td>acc</td>\n",
              "    </tr>\n",
              "    <tr>\n",
              "      <th>1</th>\n",
              "      <td>high</td>\n",
              "      <td>high</td>\n",
              "      <td>4</td>\n",
              "      <td>more</td>\n",
              "      <td>big</td>\n",
              "      <td>low</td>\n",
              "      <td>unacc</td>\n",
              "    </tr>\n",
              "    <tr>\n",
              "      <th>2</th>\n",
              "      <td>high</td>\n",
              "      <td>low</td>\n",
              "      <td>2</td>\n",
              "      <td>more</td>\n",
              "      <td>big</td>\n",
              "      <td>high</td>\n",
              "      <td>acc</td>\n",
              "    </tr>\n",
              "    <tr>\n",
              "      <th>3</th>\n",
              "      <td>vhigh</td>\n",
              "      <td>low</td>\n",
              "      <td>3</td>\n",
              "      <td>2</td>\n",
              "      <td>med</td>\n",
              "      <td>med</td>\n",
              "      <td>unacc</td>\n",
              "    </tr>\n",
              "    <tr>\n",
              "      <th>4</th>\n",
              "      <td>low</td>\n",
              "      <td>high</td>\n",
              "      <td>2</td>\n",
              "      <td>2</td>\n",
              "      <td>small</td>\n",
              "      <td>low</td>\n",
              "      <td>unacc</td>\n",
              "    </tr>\n",
              "  </tbody>\n",
              "</table>\n",
              "</div>\n",
              "      <button class=\"colab-df-convert\" onclick=\"convertToInteractive('df-72f8a772-51c5-4a93-84f1-ef51dcb685e1')\"\n",
              "              title=\"Convert this dataframe to an interactive table.\"\n",
              "              style=\"display:none;\">\n",
              "        \n",
              "  <svg xmlns=\"http://www.w3.org/2000/svg\" height=\"24px\"viewBox=\"0 0 24 24\"\n",
              "       width=\"24px\">\n",
              "    <path d=\"M0 0h24v24H0V0z\" fill=\"none\"/>\n",
              "    <path d=\"M18.56 5.44l.94 2.06.94-2.06 2.06-.94-2.06-.94-.94-2.06-.94 2.06-2.06.94zm-11 1L8.5 8.5l.94-2.06 2.06-.94-2.06-.94L8.5 2.5l-.94 2.06-2.06.94zm10 10l.94 2.06.94-2.06 2.06-.94-2.06-.94-.94-2.06-.94 2.06-2.06.94z\"/><path d=\"M17.41 7.96l-1.37-1.37c-.4-.4-.92-.59-1.43-.59-.52 0-1.04.2-1.43.59L10.3 9.45l-7.72 7.72c-.78.78-.78 2.05 0 2.83L4 21.41c.39.39.9.59 1.41.59.51 0 1.02-.2 1.41-.59l7.78-7.78 2.81-2.81c.8-.78.8-2.07 0-2.86zM5.41 20L4 18.59l7.72-7.72 1.47 1.35L5.41 20z\"/>\n",
              "  </svg>\n",
              "      </button>\n",
              "      \n",
              "  <style>\n",
              "    .colab-df-container {\n",
              "      display:flex;\n",
              "      flex-wrap:wrap;\n",
              "      gap: 12px;\n",
              "    }\n",
              "\n",
              "    .colab-df-convert {\n",
              "      background-color: #E8F0FE;\n",
              "      border: none;\n",
              "      border-radius: 50%;\n",
              "      cursor: pointer;\n",
              "      display: none;\n",
              "      fill: #1967D2;\n",
              "      height: 32px;\n",
              "      padding: 0 0 0 0;\n",
              "      width: 32px;\n",
              "    }\n",
              "\n",
              "    .colab-df-convert:hover {\n",
              "      background-color: #E2EBFA;\n",
              "      box-shadow: 0px 1px 2px rgba(60, 64, 67, 0.3), 0px 1px 3px 1px rgba(60, 64, 67, 0.15);\n",
              "      fill: #174EA6;\n",
              "    }\n",
              "\n",
              "    [theme=dark] .colab-df-convert {\n",
              "      background-color: #3B4455;\n",
              "      fill: #D2E3FC;\n",
              "    }\n",
              "\n",
              "    [theme=dark] .colab-df-convert:hover {\n",
              "      background-color: #434B5C;\n",
              "      box-shadow: 0px 1px 3px 1px rgba(0, 0, 0, 0.15);\n",
              "      filter: drop-shadow(0px 1px 2px rgba(0, 0, 0, 0.3));\n",
              "      fill: #FFFFFF;\n",
              "    }\n",
              "  </style>\n",
              "\n",
              "      <script>\n",
              "        const buttonEl =\n",
              "          document.querySelector('#df-72f8a772-51c5-4a93-84f1-ef51dcb685e1 button.colab-df-convert');\n",
              "        buttonEl.style.display =\n",
              "          google.colab.kernel.accessAllowed ? 'block' : 'none';\n",
              "\n",
              "        async function convertToInteractive(key) {\n",
              "          const element = document.querySelector('#df-72f8a772-51c5-4a93-84f1-ef51dcb685e1');\n",
              "          const dataTable =\n",
              "            await google.colab.kernel.invokeFunction('convertToInteractive',\n",
              "                                                     [key], {});\n",
              "          if (!dataTable) return;\n",
              "\n",
              "          const docLinkHtml = 'Like what you see? Visit the ' +\n",
              "            '<a target=\"_blank\" href=https://colab.research.google.com/notebooks/data_table.ipynb>data table notebook</a>'\n",
              "            + ' to learn more about interactive tables.';\n",
              "          element.innerHTML = '';\n",
              "          dataTable['output_type'] = 'display_data';\n",
              "          await google.colab.output.renderOutput(dataTable, element);\n",
              "          const docLink = document.createElement('div');\n",
              "          docLink.innerHTML = docLinkHtml;\n",
              "          element.appendChild(docLink);\n",
              "        }\n",
              "      </script>\n",
              "    </div>\n",
              "  </div>\n",
              "  "
            ]
          },
          "metadata": {},
          "execution_count": 14
        }
      ]
    },
    {
      "cell_type": "code",
      "source": [
        "data.isnull().sum()"
      ],
      "metadata": {
        "colab": {
          "base_uri": "https://localhost:8080/"
        },
        "id": "wMDVXnxRZPQb",
        "outputId": "20945185-386b-4c21-b795-9c5b20e1fa35"
      },
      "execution_count": null,
      "outputs": [
        {
          "output_type": "execute_result",
          "data": {
            "text/plain": [
              "Price                        0\n",
              "Maintenance_cost             0\n",
              "Number_of_doors              0\n",
              "Number_of_passengers         0\n",
              "Luggage_capacity             0\n",
              "Safety_rating                0\n",
              "Classification_of_vehicle    0\n",
              "dtype: int64"
            ]
          },
          "metadata": {},
          "execution_count": 15
        }
      ]
    },
    {
      "cell_type": "code",
      "source": [
        "data.info()"
      ],
      "metadata": {
        "colab": {
          "base_uri": "https://localhost:8080/"
        },
        "id": "ZgxUy4p6ZdzX",
        "outputId": "42b01006-3d9e-4849-ea75-bb146a7c2a20"
      },
      "execution_count": null,
      "outputs": [
        {
          "output_type": "stream",
          "name": "stdout",
          "text": [
            "<class 'pandas.core.frame.DataFrame'>\n",
            "RangeIndex: 34 entries, 0 to 33\n",
            "Data columns (total 7 columns):\n",
            " #   Column                     Non-Null Count  Dtype \n",
            "---  ------                     --------------  ----- \n",
            " 0   Price                      34 non-null     object\n",
            " 1   Maintenance_cost           34 non-null     object\n",
            " 2   Number_of_doors            34 non-null     object\n",
            " 3   Number_of_passengers       34 non-null     object\n",
            " 4   Luggage_capacity           34 non-null     object\n",
            " 5   Safety_rating              34 non-null     object\n",
            " 6   Classification_of_vehicle  34 non-null     object\n",
            "dtypes: object(7)\n",
            "memory usage: 2.0+ KB\n"
          ]
        }
      ]
    },
    {
      "cell_type": "code",
      "source": [
        "#converting to lists\n",
        "for column in data.columns:\n",
        "  values = data[column].values\n",
        "  list_of_column = values.tolist()\n",
        "  # print each row as read by the csv.reader function\n",
        "  print(list_of_column)"
      ],
      "metadata": {
        "colab": {
          "base_uri": "https://localhost:8080/"
        },
        "id": "6wbQqvxcazfL",
        "outputId": "fffa759d-c842-4955-9c0f-91b3c52d44ee"
      },
      "execution_count": null,
      "outputs": [
        {
          "output_type": "stream",
          "name": "stdout",
          "text": [
            "['high', 'high', 'high', 'vhigh', 'low', 'med', 'low', 'vhigh', 'vhigh', 'low', 'vhigh', 'high', 'low', 'high', 'vhigh', 'med', 'high', 'low', 'low', 'med', 'low', 'vhigh', 'med', 'low', 'vhigh', 'med', 'high', 'low', 'med', 'high', 'high', 'low', 'vhigh', 'high']\n",
            "['high', 'high', 'low', 'low', 'high', 'med', 'low', 'low', 'high', 'low', 'low', 'low', 'vhigh', 'low', 'high', 'med', 'low', 'low', 'low', 'high', 'low', 'high', 'vhigh', 'vhigh', 'low', 'vhigh', 'high', 'high', 'high', 'low', 'vhigh', 'low', 'vhigh', 'low']\n",
            "['4', '4', '2', '3', '2', '4', '3', '2', '4', '2', '4', '2', '3', '5more', '2', '2', '5more', '3', '2', '4', '2', '5more', '2', '4', '3', '3', '3', '5more', '5more', '3', '5more', '5more', '4', '3']\n",
            "['more', 'more', 'more', '2', '2', 'more', '2', '2', '4', '2', 'more', '4', 'more', '2', 'more', '2', '4', 'more', '2', '2', '2', '4', '2', '4', 'more', '4', '4', '2', '2', '4', '4', '2', '2', '2']\n",
            "['small', 'big', 'big', 'med', 'small', 'med', 'big', 'small', 'med', 'med', 'small', 'big', 'big', 'big', 'med', 'small', 'med', 'med', 'big', 'big', 'small', 'med', 'big', 'big', 'big', 'small', 'med', 'big', 'med', 'med', 'med', 'med', 'big', 'big']\n",
            "['high', 'low', 'high', 'med', 'low', 'high', 'med', 'low', 'low', 'med', 'high', 'med', 'low', 'med', 'high', 'low', 'high', 'high', 'med', 'high', 'high', 'med', 'low', 'low', 'low', 'low', 'med', 'low', 'med', 'high', 'med', 'low', 'high', 'high']\n",
            "['acc', 'unacc', 'acc', 'unacc', 'unacc', 'vgood', 'unacc', 'unacc', 'unacc', 'unacc', 'acc', 'acc', 'unacc', 'unacc', 'unacc', 'unacc', 'acc', 'vgood', 'unacc', 'unacc', 'unacc', 'unacc', 'unacc', 'unacc', 'unacc', 'unacc', 'unacc', 'unacc', 'unacc', 'acc', 'unacc', 'unacc', 'unacc', 'unacc']\n"
          ]
        }
      ]
    },
    {
      "cell_type": "code",
      "source": [
        "for col in data.columns:\n",
        "    print(data[col].value_counts())"
      ],
      "metadata": {
        "colab": {
          "base_uri": "https://localhost:8080/"
        },
        "id": "vqv64V_3cLrF",
        "outputId": "4a1ef4b6-5a65-4d21-fecd-d71db12a99d1"
      },
      "execution_count": null,
      "outputs": [
        {
          "output_type": "stream",
          "name": "stdout",
          "text": [
            "high     10\n",
            "low      10\n",
            "vhigh     8\n",
            "med       6\n",
            "Name: Price, dtype: int64\n",
            "low      16\n",
            "high     10\n",
            "vhigh     6\n",
            "med       2\n",
            "Name: Maintenance_cost, dtype: int64\n",
            "2        10\n",
            "3         9\n",
            "4         8\n",
            "5more     7\n",
            "Name: Number_of_doors, dtype: int64\n",
            "2       16\n",
            "more     9\n",
            "4        9\n",
            "Name: Number_of_passengers, dtype: int64\n",
            "big      14\n",
            "med      13\n",
            "small     7\n",
            "Name: Luggage_capacity, dtype: int64\n",
            "high    12\n",
            "low     12\n",
            "med     10\n",
            "Name: Safety_rating, dtype: int64\n",
            "unacc    26\n",
            "acc       6\n",
            "vgood     2\n",
            "Name: Classification_of_vehicle, dtype: int64\n"
          ]
        }
      ]
    },
    {
      "cell_type": "code",
      "source": [
        "data.describe()"
      ],
      "metadata": {
        "colab": {
          "base_uri": "https://localhost:8080/",
          "height": 175
        },
        "id": "45XHZROAdbbM",
        "outputId": "52924083-339d-41c0-f0b3-31a1320157a6"
      },
      "execution_count": null,
      "outputs": [
        {
          "output_type": "execute_result",
          "data": {
            "text/plain": [
              "       Price Maintenance_cost Number_of_doors Number_of_passengers  \\\n",
              "count     34               34              34                   34   \n",
              "unique     4                4               4                    3   \n",
              "top     high              low               2                    2   \n",
              "freq      10               16              10                   16   \n",
              "\n",
              "       Luggage_capacity Safety_rating Classification_of_vehicle  \n",
              "count                34            34                        34  \n",
              "unique                3             3                         3  \n",
              "top                 big          high                     unacc  \n",
              "freq                 14            12                        26  "
            ],
            "text/html": [
              "\n",
              "  <div id=\"df-92244092-f828-45db-8d17-f4999ff1fbaf\">\n",
              "    <div class=\"colab-df-container\">\n",
              "      <div>\n",
              "<style scoped>\n",
              "    .dataframe tbody tr th:only-of-type {\n",
              "        vertical-align: middle;\n",
              "    }\n",
              "\n",
              "    .dataframe tbody tr th {\n",
              "        vertical-align: top;\n",
              "    }\n",
              "\n",
              "    .dataframe thead th {\n",
              "        text-align: right;\n",
              "    }\n",
              "</style>\n",
              "<table border=\"1\" class=\"dataframe\">\n",
              "  <thead>\n",
              "    <tr style=\"text-align: right;\">\n",
              "      <th></th>\n",
              "      <th>Price</th>\n",
              "      <th>Maintenance_cost</th>\n",
              "      <th>Number_of_doors</th>\n",
              "      <th>Number_of_passengers</th>\n",
              "      <th>Luggage_capacity</th>\n",
              "      <th>Safety_rating</th>\n",
              "      <th>Classification_of_vehicle</th>\n",
              "    </tr>\n",
              "  </thead>\n",
              "  <tbody>\n",
              "    <tr>\n",
              "      <th>count</th>\n",
              "      <td>34</td>\n",
              "      <td>34</td>\n",
              "      <td>34</td>\n",
              "      <td>34</td>\n",
              "      <td>34</td>\n",
              "      <td>34</td>\n",
              "      <td>34</td>\n",
              "    </tr>\n",
              "    <tr>\n",
              "      <th>unique</th>\n",
              "      <td>4</td>\n",
              "      <td>4</td>\n",
              "      <td>4</td>\n",
              "      <td>3</td>\n",
              "      <td>3</td>\n",
              "      <td>3</td>\n",
              "      <td>3</td>\n",
              "    </tr>\n",
              "    <tr>\n",
              "      <th>top</th>\n",
              "      <td>high</td>\n",
              "      <td>low</td>\n",
              "      <td>2</td>\n",
              "      <td>2</td>\n",
              "      <td>big</td>\n",
              "      <td>high</td>\n",
              "      <td>unacc</td>\n",
              "    </tr>\n",
              "    <tr>\n",
              "      <th>freq</th>\n",
              "      <td>10</td>\n",
              "      <td>16</td>\n",
              "      <td>10</td>\n",
              "      <td>16</td>\n",
              "      <td>14</td>\n",
              "      <td>12</td>\n",
              "      <td>26</td>\n",
              "    </tr>\n",
              "  </tbody>\n",
              "</table>\n",
              "</div>\n",
              "      <button class=\"colab-df-convert\" onclick=\"convertToInteractive('df-92244092-f828-45db-8d17-f4999ff1fbaf')\"\n",
              "              title=\"Convert this dataframe to an interactive table.\"\n",
              "              style=\"display:none;\">\n",
              "        \n",
              "  <svg xmlns=\"http://www.w3.org/2000/svg\" height=\"24px\"viewBox=\"0 0 24 24\"\n",
              "       width=\"24px\">\n",
              "    <path d=\"M0 0h24v24H0V0z\" fill=\"none\"/>\n",
              "    <path d=\"M18.56 5.44l.94 2.06.94-2.06 2.06-.94-2.06-.94-.94-2.06-.94 2.06-2.06.94zm-11 1L8.5 8.5l.94-2.06 2.06-.94-2.06-.94L8.5 2.5l-.94 2.06-2.06.94zm10 10l.94 2.06.94-2.06 2.06-.94-2.06-.94-.94-2.06-.94 2.06-2.06.94z\"/><path d=\"M17.41 7.96l-1.37-1.37c-.4-.4-.92-.59-1.43-.59-.52 0-1.04.2-1.43.59L10.3 9.45l-7.72 7.72c-.78.78-.78 2.05 0 2.83L4 21.41c.39.39.9.59 1.41.59.51 0 1.02-.2 1.41-.59l7.78-7.78 2.81-2.81c.8-.78.8-2.07 0-2.86zM5.41 20L4 18.59l7.72-7.72 1.47 1.35L5.41 20z\"/>\n",
              "  </svg>\n",
              "      </button>\n",
              "      \n",
              "  <style>\n",
              "    .colab-df-container {\n",
              "      display:flex;\n",
              "      flex-wrap:wrap;\n",
              "      gap: 12px;\n",
              "    }\n",
              "\n",
              "    .colab-df-convert {\n",
              "      background-color: #E8F0FE;\n",
              "      border: none;\n",
              "      border-radius: 50%;\n",
              "      cursor: pointer;\n",
              "      display: none;\n",
              "      fill: #1967D2;\n",
              "      height: 32px;\n",
              "      padding: 0 0 0 0;\n",
              "      width: 32px;\n",
              "    }\n",
              "\n",
              "    .colab-df-convert:hover {\n",
              "      background-color: #E2EBFA;\n",
              "      box-shadow: 0px 1px 2px rgba(60, 64, 67, 0.3), 0px 1px 3px 1px rgba(60, 64, 67, 0.15);\n",
              "      fill: #174EA6;\n",
              "    }\n",
              "\n",
              "    [theme=dark] .colab-df-convert {\n",
              "      background-color: #3B4455;\n",
              "      fill: #D2E3FC;\n",
              "    }\n",
              "\n",
              "    [theme=dark] .colab-df-convert:hover {\n",
              "      background-color: #434B5C;\n",
              "      box-shadow: 0px 1px 3px 1px rgba(0, 0, 0, 0.15);\n",
              "      filter: drop-shadow(0px 1px 2px rgba(0, 0, 0, 0.3));\n",
              "      fill: #FFFFFF;\n",
              "    }\n",
              "  </style>\n",
              "\n",
              "      <script>\n",
              "        const buttonEl =\n",
              "          document.querySelector('#df-92244092-f828-45db-8d17-f4999ff1fbaf button.colab-df-convert');\n",
              "        buttonEl.style.display =\n",
              "          google.colab.kernel.accessAllowed ? 'block' : 'none';\n",
              "\n",
              "        async function convertToInteractive(key) {\n",
              "          const element = document.querySelector('#df-92244092-f828-45db-8d17-f4999ff1fbaf');\n",
              "          const dataTable =\n",
              "            await google.colab.kernel.invokeFunction('convertToInteractive',\n",
              "                                                     [key], {});\n",
              "          if (!dataTable) return;\n",
              "\n",
              "          const docLinkHtml = 'Like what you see? Visit the ' +\n",
              "            '<a target=\"_blank\" href=https://colab.research.google.com/notebooks/data_table.ipynb>data table notebook</a>'\n",
              "            + ' to learn more about interactive tables.';\n",
              "          element.innerHTML = '';\n",
              "          dataTable['output_type'] = 'display_data';\n",
              "          await google.colab.output.renderOutput(dataTable, element);\n",
              "          const docLink = document.createElement('div');\n",
              "          docLink.innerHTML = docLinkHtml;\n",
              "          element.appendChild(docLink);\n",
              "        }\n",
              "      </script>\n",
              "    </div>\n",
              "  </div>\n",
              "  "
            ]
          },
          "metadata": {},
          "execution_count": 28
        }
      ]
    },
    {
      "cell_type": "code",
      "source": [
        "print(data[(data['Price']=='med')])"
      ],
      "metadata": {
        "colab": {
          "base_uri": "https://localhost:8080/"
        },
        "id": "TWr72gn9d9Cp",
        "outputId": "41fab2d4-b323-4545-bdbe-e4cbb7e73ca3"
      },
      "execution_count": null,
      "outputs": [
        {
          "output_type": "stream",
          "name": "stdout",
          "text": [
            "   Price Maintenance_cost Number_of_doors Number_of_passengers  \\\n",
            "5    med              med               4                 more   \n",
            "15   med              med               2                    2   \n",
            "19   med             high               4                    2   \n",
            "22   med            vhigh               2                    2   \n",
            "25   med            vhigh               3                    4   \n",
            "28   med             high           5more                    2   \n",
            "\n",
            "   Luggage_capacity Safety_rating Classification_of_vehicle  \n",
            "5               med          high                     vgood  \n",
            "15            small           low                     unacc  \n",
            "19              big          high                     unacc  \n",
            "22              big           low                     unacc  \n",
            "25            small           low                     unacc  \n",
            "28              med           med                     unacc  \n"
          ]
        }
      ]
    }
  ]
}